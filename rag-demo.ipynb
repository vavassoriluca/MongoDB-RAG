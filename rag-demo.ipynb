{
 "cells": [
  {
   "cell_type": "markdown",
   "id": "10a88626-e2f7-4987-bc08-43b677154a21",
   "metadata": {},
   "source": [
    "# Interactive RAG Demo 🔬\n",
    "MongoDB + Voyage AI + Ollama"
   ]
  },
  {
   "cell_type": "markdown",
   "id": "5496c094-078f-42b9-a253-fae1fb5da7f0",
   "metadata": {},
   "source": [
    "## Install Dependencies"
   ]
  },
  {
   "cell_type": "code",
   "execution_count": 2,
   "id": "3a9ae556-54f2-4305-a34c-25000cc67c67",
   "metadata": {},
   "outputs": [
    {
     "name": "stdout",
     "output_type": "stream",
     "text": [
      "Requirement already satisfied: python-dotenv in ./rag/lib/python3.9/site-packages (1.1.1)\n",
      "Requirement already satisfied: voyageai in ./rag/lib/python3.9/site-packages (0.3.5)\n",
      "Requirement already satisfied: pymongo in ./rag/lib/python3.9/site-packages (4.15.1)\n",
      "Requirement already satisfied: ollama in ./rag/lib/python3.9/site-packages (0.5.4)\n",
      "Requirement already satisfied: aiohttp in ./rag/lib/python3.9/site-packages (from voyageai) (3.12.15)\n",
      "Requirement already satisfied: aiolimiter in ./rag/lib/python3.9/site-packages (from voyageai) (1.2.1)\n",
      "Requirement already satisfied: langchain-text-splitters>=0.3.8 in ./rag/lib/python3.9/site-packages (from voyageai) (0.3.11)\n",
      "Requirement already satisfied: numpy in ./rag/lib/python3.9/site-packages (from voyageai) (2.0.2)\n",
      "Requirement already satisfied: pillow in ./rag/lib/python3.9/site-packages (from voyageai) (11.3.0)\n",
      "Requirement already satisfied: pydantic>=1.10.8 in ./rag/lib/python3.9/site-packages (from voyageai) (2.11.9)\n",
      "Requirement already satisfied: requests in ./rag/lib/python3.9/site-packages (from voyageai) (2.32.5)\n",
      "Requirement already satisfied: tenacity in ./rag/lib/python3.9/site-packages (from voyageai) (9.1.2)\n",
      "Requirement already satisfied: tokenizers>=0.14.0 in ./rag/lib/python3.9/site-packages (from voyageai) (0.22.0)\n",
      "Requirement already satisfied: dnspython<3.0.0,>=1.16.0 in ./rag/lib/python3.9/site-packages (from pymongo) (2.7.0)\n",
      "Requirement already satisfied: httpx>=0.27 in ./rag/lib/python3.9/site-packages (from ollama) (0.28.1)\n",
      "Requirement already satisfied: anyio in ./rag/lib/python3.9/site-packages (from httpx>=0.27->ollama) (4.10.0)\n",
      "Requirement already satisfied: certifi in ./rag/lib/python3.9/site-packages (from httpx>=0.27->ollama) (2025.8.3)\n",
      "Requirement already satisfied: httpcore==1.* in ./rag/lib/python3.9/site-packages (from httpx>=0.27->ollama) (1.0.9)\n",
      "Requirement already satisfied: idna in ./rag/lib/python3.9/site-packages (from httpx>=0.27->ollama) (3.10)\n",
      "Requirement already satisfied: h11>=0.16 in ./rag/lib/python3.9/site-packages (from httpcore==1.*->httpx>=0.27->ollama) (0.16.0)\n",
      "Requirement already satisfied: langchain-core<2.0.0,>=0.3.75 in ./rag/lib/python3.9/site-packages (from langchain-text-splitters>=0.3.8->voyageai) (0.3.76)\n",
      "Requirement already satisfied: langsmith>=0.3.45 in ./rag/lib/python3.9/site-packages (from langchain-core<2.0.0,>=0.3.75->langchain-text-splitters>=0.3.8->voyageai) (0.4.28)\n",
      "Requirement already satisfied: jsonpatch<2.0,>=1.33 in ./rag/lib/python3.9/site-packages (from langchain-core<2.0.0,>=0.3.75->langchain-text-splitters>=0.3.8->voyageai) (1.33)\n",
      "Requirement already satisfied: PyYAML>=5.3 in ./rag/lib/python3.9/site-packages (from langchain-core<2.0.0,>=0.3.75->langchain-text-splitters>=0.3.8->voyageai) (6.0.2)\n",
      "Requirement already satisfied: typing-extensions>=4.7 in ./rag/lib/python3.9/site-packages (from langchain-core<2.0.0,>=0.3.75->langchain-text-splitters>=0.3.8->voyageai) (4.15.0)\n",
      "Requirement already satisfied: packaging>=23.2 in ./rag/lib/python3.9/site-packages (from langchain-core<2.0.0,>=0.3.75->langchain-text-splitters>=0.3.8->voyageai) (25.0)\n",
      "Requirement already satisfied: jsonpointer>=1.9 in ./rag/lib/python3.9/site-packages (from jsonpatch<2.0,>=1.33->langchain-core<2.0.0,>=0.3.75->langchain-text-splitters>=0.3.8->voyageai) (3.0.0)\n",
      "Requirement already satisfied: orjson>=3.9.14 in ./rag/lib/python3.9/site-packages (from langsmith>=0.3.45->langchain-core<2.0.0,>=0.3.75->langchain-text-splitters>=0.3.8->voyageai) (3.11.3)\n",
      "Requirement already satisfied: requests-toolbelt>=1.0.0 in ./rag/lib/python3.9/site-packages (from langsmith>=0.3.45->langchain-core<2.0.0,>=0.3.75->langchain-text-splitters>=0.3.8->voyageai) (1.0.0)\n",
      "Requirement already satisfied: zstandard>=0.23.0 in ./rag/lib/python3.9/site-packages (from langsmith>=0.3.45->langchain-core<2.0.0,>=0.3.75->langchain-text-splitters>=0.3.8->voyageai) (0.25.0)\n",
      "Requirement already satisfied: annotated-types>=0.6.0 in ./rag/lib/python3.9/site-packages (from pydantic>=1.10.8->voyageai) (0.7.0)\n",
      "Requirement already satisfied: pydantic-core==2.33.2 in ./rag/lib/python3.9/site-packages (from pydantic>=1.10.8->voyageai) (2.33.2)\n",
      "Requirement already satisfied: typing-inspection>=0.4.0 in ./rag/lib/python3.9/site-packages (from pydantic>=1.10.8->voyageai) (0.4.1)\n",
      "Requirement already satisfied: charset_normalizer<4,>=2 in ./rag/lib/python3.9/site-packages (from requests->voyageai) (3.4.3)\n",
      "Requirement already satisfied: urllib3<3,>=1.21.1 in ./rag/lib/python3.9/site-packages (from requests->voyageai) (2.5.0)\n",
      "Requirement already satisfied: huggingface-hub<1.0,>=0.16.4 in ./rag/lib/python3.9/site-packages (from tokenizers>=0.14.0->voyageai) (0.35.0)\n",
      "Requirement already satisfied: filelock in ./rag/lib/python3.9/site-packages (from huggingface-hub<1.0,>=0.16.4->tokenizers>=0.14.0->voyageai) (3.19.1)\n",
      "Requirement already satisfied: fsspec>=2023.5.0 in ./rag/lib/python3.9/site-packages (from huggingface-hub<1.0,>=0.16.4->tokenizers>=0.14.0->voyageai) (2025.9.0)\n",
      "Requirement already satisfied: tqdm>=4.42.1 in ./rag/lib/python3.9/site-packages (from huggingface-hub<1.0,>=0.16.4->tokenizers>=0.14.0->voyageai) (4.67.1)\n",
      "Requirement already satisfied: hf-xet<2.0.0,>=1.1.3 in ./rag/lib/python3.9/site-packages (from huggingface-hub<1.0,>=0.16.4->tokenizers>=0.14.0->voyageai) (1.1.10)\n",
      "Requirement already satisfied: aiohappyeyeballs>=2.5.0 in ./rag/lib/python3.9/site-packages (from aiohttp->voyageai) (2.6.1)\n",
      "Requirement already satisfied: aiosignal>=1.4.0 in ./rag/lib/python3.9/site-packages (from aiohttp->voyageai) (1.4.0)\n",
      "Requirement already satisfied: async-timeout<6.0,>=4.0 in ./rag/lib/python3.9/site-packages (from aiohttp->voyageai) (5.0.1)\n",
      "Requirement already satisfied: attrs>=17.3.0 in ./rag/lib/python3.9/site-packages (from aiohttp->voyageai) (25.3.0)\n",
      "Requirement already satisfied: frozenlist>=1.1.1 in ./rag/lib/python3.9/site-packages (from aiohttp->voyageai) (1.7.0)\n",
      "Requirement already satisfied: multidict<7.0,>=4.5 in ./rag/lib/python3.9/site-packages (from aiohttp->voyageai) (6.6.4)\n",
      "Requirement already satisfied: propcache>=0.2.0 in ./rag/lib/python3.9/site-packages (from aiohttp->voyageai) (0.3.2)\n",
      "Requirement already satisfied: yarl<2.0,>=1.17.0 in ./rag/lib/python3.9/site-packages (from aiohttp->voyageai) (1.20.1)\n",
      "Requirement already satisfied: exceptiongroup>=1.0.2 in ./rag/lib/python3.9/site-packages (from anyio->httpx>=0.27->ollama) (1.3.0)\n",
      "Requirement already satisfied: sniffio>=1.1 in ./rag/lib/python3.9/site-packages (from anyio->httpx>=0.27->ollama) (1.3.1)\n",
      "Note: you may need to restart the kernel to use updated packages.\n"
     ]
    }
   ],
   "source": [
    "%pip install python-dotenv voyageai pymongo ollama"
   ]
  },
  {
   "cell_type": "markdown",
   "id": "14cac450-c427-4a85-abe8-9e97bc0af863",
   "metadata": {},
   "source": [
    "## Imports and Client Initialization"
   ]
  },
  {
   "cell_type": "markdown",
   "id": "55d430a5-7060-47ff-9431-6cab20dedef6",
   "metadata": {},
   "source": [
    "import os\n",
    "import datetime\n",
    "from dotenv import load_dotenv\n",
    "import voyageai\n",
    "from pymongo import MongoClient\n",
    "from pymongo.server_api import ServerApi\n",
    "import ollama\n",
    "import json\n",
    "import time\n",
    "\n",
    "# --- Load Environment Variables ---\n",
    "# Make sure you have a .env file in the same directory as this notebook\n",
    "load_dotenv()\n",
    "\n",
    "VOYAGE_API_KEY = os.getenv(\"VOYAGE_API_KEY\")\n",
    "MONGO_URI = os.getenv(\"MONGO_URI\")\n",
    "OLLAMA_HOST = os.getenv(\"OLLAMA_HOST\", \"http://localhost:11434\")\n",
    "DB_NAME = \"rag_demo_db\"\n",
    "COLLECTION_NAME = \"knowledge_base\"\n",
    "\n",
    "# --- Initialize Clients ---\n",
    "try:\n",
    "    # Voyage AI Client\n",
    "    vo = voyageai.Client(api_key=VOYAGE_API_KEY)\n",
    "    print(\"✅ Voyage AI client initialized.\")\n",
    "\n",
    "    # MongoDB Client\n",
    "    mongo_client = MongoClient(MONGO_URI, server_api=ServerApi('1'))\n",
    "    db = mongo_client[DB_NAME]\n",
    "    collection = db[COLLECTION_NAME]\n",
    "    mongo_client.admin.command('ping')\n",
    "    print(\"✅ Successfully connected to MongoDB!\")\n",
    "\n",
    "    # Ollama Client\n",
    "    ollama_client = ollama.Client(host=OLLAMA_HOST)\n",
    "    print(\"✅ Ollama client initialized.\")\n",
    "\n",
    "except Exception as e:\n",
    "    print(f\"🔥 Error initializing clients: {e}\")\n",
    "\n",
    "# Helper to print JSON nicely\n",
    "def print_json(data):\n",
    "    print(json.dumps(data, indent=2))"
   ]
  },
  {
   "cell_type": "markdown",
   "id": "cefe1208-7081-4eeb-86fc-16e82b6c736d",
   "metadata": {},
   "source": [
    "## 1. Document Ingestion Pipeline\n",
    "Here, we'll simulate uploading a document, chunking it, embedding it, and inserting it into the database."
   ]
  },
  {
   "cell_type": "markdown",
   "id": "36f8982b-b304-4288-b44b-4ed4ca9ebe7e",
   "metadata": {},
   "source": [
    "### Step 1.1 - Load and Chunk Document"
   ]
  },
  {
   "cell_type": "code",
   "execution_count": 4,
   "id": "587ddb1f-44f6-4dd6-9322-55d8b1c2e5c5",
   "metadata": {},
   "outputs": [],
   "source": [
    "def chunk_text(text: str, chunk_size: int = 1024, overlap: int = 128) -> list[dict]:\n",
    "    \"\"\"Splits text into overlapping chunks.\"\"\"\n",
    "    if not text:\n",
    "        return []\n",
    "    chunks = []\n",
    "    start = 0\n",
    "    chunk_id = 1\n",
    "    while start < len(text):\n",
    "        end = start + chunk_size\n",
    "        chunks.append({\"chunk_id\": chunk_id, \"text\": text[start:end]})\n",
    "        start += chunk_size - overlap\n",
    "        chunk_id += 1\n",
    "    return chunks"
   ]
  },
  {
   "cell_type": "code",
   "execution_count": 10,
   "id": "541ba7ad-4c50-4992-a7c6-c628c9b6be35",
   "metadata": {},
   "outputs": [
    {
     "name": "stdout",
     "output_type": "stream",
     "text": [
      "File content successfully loaded into 'text_content' variable.\n",
      "📄 Document chunked into 7 chunks.\n",
      "--- First Chunk ---\n",
      "{\n",
      "  \"chunk_id\": 1,\n",
      "  \"text\": \"\\nRich Dad Poor Dad - Book Summary\\nRich Dad Poor Dad, published in 1997 by authors Robert Kiyosaki and Sharon Lechter, has sold over 32 million copies in more than 51 languages. The book, which was endorsed by celebrities such as Oprah Winfrey, stayed on the New York Times best-sellers list for six years. This summary highlights six rules that the authors believe can help you make your money work for you.\\n\\nThe author, Robert Kiyosaki, had two dads: his biological \\\"Poor Dad\\\" and his friend Mike's \\\"Rich Dad\\\". Kiyosaki's Poor Dad worked hard his whole life, was highly educated, but had a different philosophy on money than his Rich Dad. The Rich Dad, who didn't have as many degrees, made much more money.\\n\\nRule 1: The rich do not work for money\\nThe key takeaway of this rule is that the poor work for money, while the rich have money work for them. Most people work for a monthly salary, but the fear of losing that job and source of income can trap them in a cycle of working hard just to pay bills. This \\\"rat race\\\" is \"\n",
      "}\n"
     ]
    }
   ],
   "source": [
    "document_name = \"rich-dad-poor-dad.txt\"\n",
    "file_path = \"./docs/\" + document_name\n",
    "\n",
    "try:\n",
    "    with open(file_path, 'r', encoding='utf-8') as file:\n",
    "        text_content = file.read()\n",
    "    print(\"File content successfully loaded into 'text_content' variable.\")\n",
    "    # You can now work with the 'text_content' variable\n",
    "    # print(text_content[:200]) # Print the first 200 characters to verify\n",
    "except FileNotFoundError:\n",
    "    print(f\"Error: The file '{file_path}' was not found.\")\n",
    "except Exception as e:\n",
    "    print(f\"An error occurred: {e}\")\n",
    "\n",
    "document_chunks = chunk_text(text_content)\n",
    "\n",
    "print(f\"📄 Document chunked into {len(document_chunks)} chunks.\")\n",
    "print(\"--- First Chunk ---\")\n",
    "print_json(document_chunks[0])"
   ]
  },
  {
   "cell_type": "markdown",
   "id": "35deee50-7f72-4263-ae8d-eaf33f904fa8",
   "metadata": {},
   "source": [
    "### Step 1.2 - Embed a Single Chunk"
   ]
  },
  {
   "cell_type": "code",
   "execution_count": 9,
   "id": "f906dd99-25d1-4955-a409-de4e65e1b3a5",
   "metadata": {},
   "outputs": [
    {
     "name": "stdout",
     "output_type": "stream",
     "text": [
      "✅ Chunk embedded successfully!\n",
      "Vector dimensions: 1024\n",
      "--- First 5 dimensions ---\n",
      "[-0.04736002907156944, 0.056065917015075684, -0.025943545624613762, 0.006529415957629681, 0.06128944829106331]\n"
     ]
    }
   ],
   "source": [
    "# We'll embed the first chunk as a demonstration to inspect the output\n",
    "print(\"--- Running a single-chunk embedding example ---\")\n",
    "chunk_to_embed_example = document_chunks[0]['text']\n",
    "\n",
    "try:\n",
    "    embedding_response_example = vo.embed([chunk_to_embed_example], model=\"voyage-3-large\", input_type=\"document\")\n",
    "    embedding_vector_example = embedding_response_example.embeddings[0]\n",
    "    \n",
    "    print(\"✅ Example chunk embedded successfully!\")\n",
    "    print(f\"Vector dimensions: {len(embedding_vector_example)}\")\n",
    "    print(\"--- First 5 dimensions ---\")\n",
    "    print(embedding_vector_example[:5])\n",
    "    \n",
    "except Exception as e:\n",
    "    print(f\"🔥 Error embedding example chunk: {e}\")"
   ]
  },
  {
   "cell_type": "markdown",
   "id": "5a8d06ad-00e2-4b25-91e8-105aaead3a10",
   "metadata": {},
   "source": [
    "### Step 1.3 - Embed and Insert all Document Chunks"
   ]
  },
  {
   "cell_type": "code",
   "execution_count": 18,
   "id": "b7d30831-3c64-4a47-9d89-87f1f83e1041",
   "metadata": {},
   "outputs": [
    {
     "name": "stdout",
     "output_type": "stream",
     "text": [
      "--- Starting bulk processing for 7 chunks ---\n"
     ]
    },
    {
     "ename": "KeyboardInterrupt",
     "evalue": "",
     "output_type": "error",
     "traceback": [
      "\u001b[0;31m---------------------------------------------------------------------------\u001b[0m",
      "\u001b[0;31mKeyboardInterrupt\u001b[0m                         Traceback (most recent call last)",
      "Cell \u001b[0;32mIn[18], line 7\u001b[0m\n\u001b[1;32m      5\u001b[0m \u001b[38;5;28;01mfor\u001b[39;00m chunk \u001b[38;5;129;01min\u001b[39;00m document_chunks:\n\u001b[1;32m      6\u001b[0m     \u001b[38;5;28;01mif\u001b[39;00m chunks_processed \u001b[38;5;241m%\u001b[39m \u001b[38;5;241m3\u001b[39m \u001b[38;5;241m==\u001b[39m \u001b[38;5;241m0\u001b[39m:\n\u001b[0;32m----> 7\u001b[0m         \u001b[43mtime\u001b[49m\u001b[38;5;241;43m.\u001b[39;49m\u001b[43msleep\u001b[49m\u001b[43m(\u001b[49m\u001b[38;5;241;43m60\u001b[39;49m\u001b[43m)\u001b[49m\n\u001b[1;32m      8\u001b[0m     \u001b[38;5;66;03m# 1. Embed the chunk\u001b[39;00m\n\u001b[1;32m      9\u001b[0m     embedding_response \u001b[38;5;241m=\u001b[39m vo\u001b[38;5;241m.\u001b[39membed([chunk[\u001b[38;5;124m'\u001b[39m\u001b[38;5;124mtext\u001b[39m\u001b[38;5;124m'\u001b[39m]], model\u001b[38;5;241m=\u001b[39m\u001b[38;5;124m\"\u001b[39m\u001b[38;5;124mvoyage-3-large\u001b[39m\u001b[38;5;124m\"\u001b[39m, input_type\u001b[38;5;241m=\u001b[39m\u001b[38;5;124m\"\u001b[39m\u001b[38;5;124mdocument\u001b[39m\u001b[38;5;124m\"\u001b[39m)\n",
      "\u001b[0;31mKeyboardInterrupt\u001b[0m: "
     ]
    }
   ],
   "source": [
    "print(f\"--- Starting bulk processing for {len(document_chunks)} chunks ---\")\n",
    "chunks_processed = 0\n",
    "\n",
    "try:\n",
    "    for chunk in document_chunks:\n",
    "        if !(chunks_processed == 0) && (chunks_processed % 3 == 0):\n",
    "            print(\"Waiting 60 seconds due to Voyage AI Free Tier limits ...\")\n",
    "            time.sleep(60)\n",
    "        # 1. Embed the chunk\n",
    "        embedding_response = vo.embed([chunk['text']], model=\"voyage-3-large\", input_type=\"document\")\n",
    "        embedding_vector = embedding_response.embeddings[0]\n",
    "        \n",
    "        # 2. Prepare the document for insertion\n",
    "        document_to_insert = {\n",
    "            \"text\": chunk['text'],\n",
    "            \"embedding\": embedding_vector,\n",
    "            \"source\": document_name,\n",
    "            \"metadata\": {\n",
    "                \"chunk_id\": chunk['chunk_id'],\n",
    "                \"upload_date\": datetime.datetime.now(datetime.timezone.utc),\n",
    "            },\n",
    "        }\n",
    "        \n",
    "        # 3. Insert the document\n",
    "        collection.insert_one(document_to_insert)\n",
    "        chunks_processed += 1\n",
    "        print(f\"Processed and inserted chunk {chunks_processed}/{len(document_chunks)}\")\n",
    "\n",
    "    print(f\"\\n✅ Successfully embedded and stored all {len(document_chunks)} chunks for the document.\")\n",
    "\n",
    "except Exception as e:\n",
    "    print(f\"\\n🔥 An error occurred at chunk {chunks_processed + 1}: {e}\")"
   ]
  },
  {
   "cell_type": "markdown",
   "id": "b8b44fec-67c3-4b27-85c7-f3f7b885af98",
   "metadata": {},
   "source": [
    "## 2. Query Processing Pipeline"
   ]
  },
  {
   "cell_type": "markdown",
   "id": "3134a87d-77c8-4893-a0a3-d3024929542a",
   "metadata": {},
   "source": [
    "### Step 2.1 - Embed the User Query"
   ]
  },
  {
   "cell_type": "code",
   "execution_count": 12,
   "id": "87f0838f-a74c-4ce2-960b-18cba44af52f",
   "metadata": {},
   "outputs": [
    {
     "name": "stdout",
     "output_type": "stream",
     "text": [
      "✅ Query embedded successfully!\n",
      "Vector dimensions: 1024\n",
      "--- First 5 dimensions ---\n",
      "[-0.018907172605395317, -0.01000967901200056, -0.03215230628848076, -0.049745071679353714, 0.027501342818140984]\n"
     ]
    }
   ],
   "source": [
    "user_query = \"How many copies did Rich Dad Poor Dad sell?\"\n",
    "\n",
    "try:\n",
    "    # Using input_type=\"query\" is crucial for retrieval quality\n",
    "    query_embedding_response = vo.embed([user_query], model=\"voyage-3-large\", input_type=\"query\")\n",
    "    \n",
    "    # Extract the query vector\n",
    "    query_vector = query_embedding_response.embeddings[0]\n",
    "    \n",
    "    print(\"✅ Query embedded successfully!\")\n",
    "    print(f\"Vector dimensions: {len(query_vector)}\")\n",
    "    print(\"--- First 5 dimensions ---\")\n",
    "    print(query_vector[:5])\n",
    "\n",
    "except Exception as e:\n",
    "    print(f\"🔥 Error embedding query: {e}\")"
   ]
  },
  {
   "cell_type": "markdown",
   "id": "a20f9899-bc52-4e7d-93b2-4966f6ef213c",
   "metadata": {},
   "source": [
    "### Step 2.2 - Retrieve Documents from MongoDB"
   ]
  },
  {
   "cell_type": "code",
   "execution_count": 19,
   "id": "013018b4-3fd8-4b75-bfef-0b2e6ebd977e",
   "metadata": {},
   "outputs": [
    {
     "name": "stdout",
     "output_type": "stream",
     "text": [
      "✅ Retrieved 3 documents from MongoDB.\n",
      "--- Retrieved Documents ---\n",
      "[\n",
      "  {\n",
      "    \"text\": \"\\nRich Dad Poor Dad - Book Summary\\nRich Dad Poor Dad, published in 1997 by authors Robert Kiyosaki and Sharon Lechter, has sold over 32 million copies in more than 51 languages. The book, which was endorsed by celebrities such as Oprah Winfrey, stayed on the New York Times best-sellers list for six years. This summary highlights six rules that the authors believe can help you make your money work for you.\\n\\nThe author, Robert Kiyosaki, had two dads: his biological \\\"Poor Dad\\\" and his friend Mike's \\\"Rich Dad\\\". Kiyosaki's Poor Dad worked hard his whole life, was highly educated, but had a different philosophy on money than his Rich Dad. The Rich Dad, who didn't have as many degrees, made much more money.\\n\\nRule 1: The rich do not work for money\\nThe key takeaway of this rule is that the poor work for money, while the rich have money work for them. Most people work for a monthly salary, but the fear of losing that job and source of income can trap them in a cycle of working hard just to pay bills. This \\\"rat race\\\" is \",\n",
      "    \"source\": \"rich-dad-poor-dad.txt\",\n",
      "    \"score\": 0.8196964263916016\n",
      "  },\n",
      "  {\n",
      "    \"text\": \" individual versus a corporation.\\n\\nRule 5: The rich invent money\\nAccording to Kiyosaki's Rich Dad, money is not real; it's an idea. Wealth today comes from information, not land. The key to creating wealth is to train your mind to identify opportunities. A well-trained mind will be willing to take risks and invest in opportunities that others don't see.\\n\\nThe story of Alexander Graham Bell is used to illustrate this point. When Bell tried to sell his telephone patent to the biggest company at the time, Western Union, they refused. Bell went on to create a billion-dollar industry with his own company, AT&T. This shows how a \\\"brave hero\\\" inside can overcome rejection and create massive wealth.\\n\\nRule 6: Work to learn\\nInstead of working hard for a salary, you should work to learn. A business consultant once told Kiyosaki that people are \\\"one skill away from great wealth,\\\" meaning that mastering an additional skill can significantly increase your income. While his Poor Dad encouraged him to specialize, his Rich Dad\",\n",
      "    \"source\": \"rich-dad-poor-dad.txt\",\n",
      "    \"score\": 0.7737833261489868\n",
      "  },\n",
      "  {\n",
      "    \"text\": \"tering an additional skill can significantly increase your income. While his Poor Dad encouraged him to specialize, his Rich Dad told him to \\\"know a little about a lot\\\".\\n\\nManagement of cash flow, time, and people are key skills for success, along with communication and the ability to sell. Education is a more valuable long-term investment than money.\\n\\nWhy the financially literate still struggle\\nEven with financial knowledge, some people struggle to build assets because of:\\n\\nFear of losing money: This fear can lead to playing it safe and missing opportunities to build assets. The author suggests that failure should inspire you to win, not make you run to \\\"safe shores\\\".\\n\\nDeep-rooted cynicism: An \\\"inner critic\\\" can create a \\\"doomsday scenario\\\" for every plan, which can prevent you from acting on opportunities to buy good assets.\\n\\nLaziness: Laziness is often a way of avoiding things you'd rather not face. The author suggests that a little bit of greed can help you overcome laziness and ask for more.\\n\\nBad habits: \",\n",
      "    \"source\": \"rich-dad-poor-dad.txt\",\n",
      "    \"score\": 0.7730437517166138\n",
      "  }\n",
      "]\n"
     ]
    }
   ],
   "source": [
    "# Construct the MongoDB Atlas Vector Search aggregation pipeline\n",
    "pipeline = [\n",
    "    {\n",
    "        \"$vectorSearch\": {\n",
    "            \"index\": \"vector_index\", # The name of your vector index\n",
    "            \"path\": \"embedding\",\n",
    "            \"queryVector\": query_vector,\n",
    "            \"numCandidates\": 100,\n",
    "            \"limit\": 3, # Retrieve top 3 most relevant chunks\n",
    "        }\n",
    "    },\n",
    "    {\n",
    "        \"$project\": {\n",
    "            \"_id\": 0,\n",
    "            \"text\": 1,\n",
    "            \"source\": 1,\n",
    "            \"score\": {\"$meta\": \"vectorSearchScore\"},\n",
    "        }\n",
    "    },\n",
    "]\n",
    "\n",
    "try:\n",
    "    retrieved_docs = list(collection.aggregate(pipeline))\n",
    "    print(f\"✅ Retrieved {len(retrieved_docs)} documents from MongoDB.\")\n",
    "    print(\"--- Retrieved Documents ---\")\n",
    "    print_json(retrieved_docs)\n",
    "\n",
    "except Exception as e:\n",
    "    print(f\"🔥 Error retrieving documents: {e}\")"
   ]
  },
  {
   "cell_type": "markdown",
   "id": "a10ddba2-6c78-4a8e-8685-c11287d01b28",
   "metadata": {},
   "source": [
    "### Step 2.3 - Rerank Retrieved Documents"
   ]
  },
  {
   "cell_type": "code",
   "execution_count": 20,
   "id": "b975db62-a374-4cac-bd10-a0c3464f56f8",
   "metadata": {},
   "outputs": [
    {
     "name": "stdout",
     "output_type": "stream",
     "text": [
      "✅ Documents reranked successfully.\n",
      "--- Reranked Documents (in order of relevance) ---\n",
      "[\n",
      "  {\n",
      "    \"text\": \"\\nRich Dad Poor Dad - Book Summary\\nRich Dad Poor Dad, published in 1997 by authors Robert Kiyosaki and Sharon Lechter, has sold over 32 million copies in more than 51 languages. The book, which was endorsed by celebrities such as Oprah Winfrey, stayed on the New York Times best-sellers list for six years. This summary highlights six rules that the authors believe can help you make your money work for you.\\n\\nThe author, Robert Kiyosaki, had two dads: his biological \\\"Poor Dad\\\" and his friend Mike's \\\"Rich Dad\\\". Kiyosaki's Poor Dad worked hard his whole life, was highly educated, but had a different philosophy on money than his Rich Dad. The Rich Dad, who didn't have as many degrees, made much more money.\\n\\nRule 1: The rich do not work for money\\nThe key takeaway of this rule is that the poor work for money, while the rich have money work for them. Most people work for a monthly salary, but the fear of losing that job and source of income can trap them in a cycle of working hard just to pay bills. This \\\"rat race\\\" is \",\n",
      "    \"source\": \"rich-dad-poor-dad.txt\",\n",
      "    \"score\": 0.8196964263916016\n",
      "  },\n",
      "  {\n",
      "    \"text\": \" individual versus a corporation.\\n\\nRule 5: The rich invent money\\nAccording to Kiyosaki's Rich Dad, money is not real; it's an idea. Wealth today comes from information, not land. The key to creating wealth is to train your mind to identify opportunities. A well-trained mind will be willing to take risks and invest in opportunities that others don't see.\\n\\nThe story of Alexander Graham Bell is used to illustrate this point. When Bell tried to sell his telephone patent to the biggest company at the time, Western Union, they refused. Bell went on to create a billion-dollar industry with his own company, AT&T. This shows how a \\\"brave hero\\\" inside can overcome rejection and create massive wealth.\\n\\nRule 6: Work to learn\\nInstead of working hard for a salary, you should work to learn. A business consultant once told Kiyosaki that people are \\\"one skill away from great wealth,\\\" meaning that mastering an additional skill can significantly increase your income. While his Poor Dad encouraged him to specialize, his Rich Dad\",\n",
      "    \"source\": \"rich-dad-poor-dad.txt\",\n",
      "    \"score\": 0.7737833261489868\n",
      "  },\n",
      "  {\n",
      "    \"text\": \"tering an additional skill can significantly increase your income. While his Poor Dad encouraged him to specialize, his Rich Dad told him to \\\"know a little about a lot\\\".\\n\\nManagement of cash flow, time, and people are key skills for success, along with communication and the ability to sell. Education is a more valuable long-term investment than money.\\n\\nWhy the financially literate still struggle\\nEven with financial knowledge, some people struggle to build assets because of:\\n\\nFear of losing money: This fear can lead to playing it safe and missing opportunities to build assets. The author suggests that failure should inspire you to win, not make you run to \\\"safe shores\\\".\\n\\nDeep-rooted cynicism: An \\\"inner critic\\\" can create a \\\"doomsday scenario\\\" for every plan, which can prevent you from acting on opportunities to buy good assets.\\n\\nLaziness: Laziness is often a way of avoiding things you'd rather not face. The author suggests that a little bit of greed can help you overcome laziness and ask for more.\\n\\nBad habits: \",\n",
      "    \"source\": \"rich-dad-poor-dad.txt\",\n",
      "    \"score\": 0.7730437517166138\n",
      "  }\n",
      "]\n"
     ]
    }
   ],
   "source": [
    "# We only need the text of the documents for reranking\n",
    "docs_to_rerank = [doc[\"text\"] for doc in retrieved_docs]\n",
    "\n",
    "try:\n",
    "    rerank_response = vo.rerank(\n",
    "        query=user_query,\n",
    "        documents=docs_to_rerank,\n",
    "        model=\"rerank-2.5-lite\",\n",
    "        top_k=3,\n",
    "    )\n",
    "    \n",
    "    # Re-order the original documents based on the reranker's response\n",
    "    reranked_docs = [retrieved_docs[result.index] for result in rerank_response.results]\n",
    "\n",
    "    print(\"✅ Documents reranked successfully.\")\n",
    "    print(\"--- Reranked Documents (in order of relevance) ---\")\n",
    "    print_json(reranked_docs)\n",
    "\n",
    "except Exception as e:\n",
    "    print(f\"🔥 Error reranking documents: {e}\")"
   ]
  },
  {
   "cell_type": "markdown",
   "id": "cd1ddb3d-e4ed-4844-9367-dd3cee8ea2aa",
   "metadata": {},
   "source": [
    "### Step 2.4 - Construct LLM Prompt"
   ]
  },
  {
   "cell_type": "code",
   "execution_count": 21,
   "id": "fe4decdc-e5c9-46e4-be57-a317e79600bf",
   "metadata": {},
   "outputs": [
    {
     "name": "stdout",
     "output_type": "stream",
     "text": [
      "✅ Final prompt constructed.\n",
      "--- LLM Prompt ---\n",
      "Use the following documents to answer the question. If the answer is not in the documents, say 'I cannot answer this question based on the provided documents.'\n",
      "\n",
      "Documents:\n",
      "--- Document 1 (Source: rich-dad-poor-dad.txt) ---\n",
      "\n",
      "Rich Dad Poor Dad - Book Summary\n",
      "Rich Dad Poor Dad, published in 1997 by authors Robert Kiyosaki and Sharon Lechter, has sold over 32 million copies in more than 51 languages. The book, which was endorsed by celebrities such as Oprah Winfrey, stayed on the New York Times best-sellers list for six years. This summary highlights six rules that the authors believe can help you make your money work for you.\n",
      "\n",
      "The author, Robert Kiyosaki, had two dads: his biological \"Poor Dad\" and his friend Mike's \"Rich Dad\". Kiyosaki's Poor Dad worked hard his whole life, was highly educated, but had a different philosophy on money than his Rich Dad. The Rich Dad, who didn't have as many degrees, made much more money.\n",
      "\n",
      "Rule 1: The rich do not work for money\n",
      "The key takeaway of this rule is that the poor work for money, while the rich have money work for them. Most people work for a monthly salary, but the fear of losing that job and source of income can trap them in a cycle of working hard just to pay bills. This \"rat race\" is \n",
      "\n",
      "--- Document 2 (Source: rich-dad-poor-dad.txt) ---\n",
      " individual versus a corporation.\n",
      "\n",
      "Rule 5: The rich invent money\n",
      "According to Kiyosaki's Rich Dad, money is not real; it's an idea. Wealth today comes from information, not land. The key to creating wealth is to train your mind to identify opportunities. A well-trained mind will be willing to take risks and invest in opportunities that others don't see.\n",
      "\n",
      "The story of Alexander Graham Bell is used to illustrate this point. When Bell tried to sell his telephone patent to the biggest company at the time, Western Union, they refused. Bell went on to create a billion-dollar industry with his own company, AT&T. This shows how a \"brave hero\" inside can overcome rejection and create massive wealth.\n",
      "\n",
      "Rule 6: Work to learn\n",
      "Instead of working hard for a salary, you should work to learn. A business consultant once told Kiyosaki that people are \"one skill away from great wealth,\" meaning that mastering an additional skill can significantly increase your income. While his Poor Dad encouraged him to specialize, his Rich Dad\n",
      "\n",
      "--- Document 3 (Source: rich-dad-poor-dad.txt) ---\n",
      "tering an additional skill can significantly increase your income. While his Poor Dad encouraged him to specialize, his Rich Dad told him to \"know a little about a lot\".\n",
      "\n",
      "Management of cash flow, time, and people are key skills for success, along with communication and the ability to sell. Education is a more valuable long-term investment than money.\n",
      "\n",
      "Why the financially literate still struggle\n",
      "Even with financial knowledge, some people struggle to build assets because of:\n",
      "\n",
      "Fear of losing money: This fear can lead to playing it safe and missing opportunities to build assets. The author suggests that failure should inspire you to win, not make you run to \"safe shores\".\n",
      "\n",
      "Deep-rooted cynicism: An \"inner critic\" can create a \"doomsday scenario\" for every plan, which can prevent you from acting on opportunities to buy good assets.\n",
      "\n",
      "Laziness: Laziness is often a way of avoiding things you'd rather not face. The author suggests that a little bit of greed can help you overcome laziness and ask for more.\n",
      "\n",
      "Bad habits: \n",
      "\n",
      "\n",
      "\n",
      "Question: How many copies did Rich Dad Poor Dad sell?\n",
      "\n",
      "Answer:\n"
     ]
    }
   ],
   "source": [
    "# Use the reranked documents for the context\n",
    "context_docs = reranked_docs \n",
    "\n",
    "context = \"\"\n",
    "for i, doc in enumerate(context_docs):\n",
    "    context += f\"--- Document {i+1} (Source: {doc.get('source', 'N/A')}) ---\\n\"\n",
    "    context += f\"{doc.get('text', '')}\\n\\n\"\n",
    "\n",
    "prompt = f\"\"\"Use the following documents to answer the question. If the answer is not in the documents, say 'I cannot answer this question based on the provided documents.'\n",
    "\n",
    "Documents:\n",
    "{context}\n",
    "\n",
    "Question: {user_query}\n",
    "\n",
    "Answer:\"\"\"\n",
    "\n",
    "print(\"✅ Final prompt constructed.\")\n",
    "print(\"--- LLM Prompt ---\")\n",
    "print(prompt)"
   ]
  },
  {
   "cell_type": "markdown",
   "id": "b3715dcb-8015-4446-8bfe-2ce0a6f994bc",
   "metadata": {},
   "source": [
    "### Step 2.5 - Generate Final Answer with Ollama"
   ]
  },
  {
   "cell_type": "code",
   "execution_count": 27,
   "id": "b8f6696d-1a94-4887-885b-147994e25ab0",
   "metadata": {},
   "outputs": [
    {
     "name": "stdout",
     "output_type": "stream",
     "text": [
      "✅ Final answer generated.\n",
      "--- LLM Final Answer ---\n",
      "According to Document 1, \"Rich Dad Poor Dad\" sold over 32 million copies in more than 51 languages.\n"
     ]
    }
   ],
   "source": [
    "try:\n",
    "    final_response = ollama_client.generate(\n",
    "        model='llama3',\n",
    "        prompt=prompt,\n",
    "    )\n",
    "    \n",
    "    print(\"✅ Final answer generated.\")\n",
    "    print(\"--- LLM Final Answer ---\")\n",
    "    print(final_response['response'])\n",
    "\n",
    "except Exception as e:\n",
    "    print(f\"🔥 Error generating answer with Ollama: {e}\")"
   ]
  }
 ],
 "metadata": {
  "kernelspec": {
   "display_name": "Python 3 (ipykernel)",
   "language": "python",
   "name": "python3"
  },
  "language_info": {
   "codemirror_mode": {
    "name": "ipython",
    "version": 3
   },
   "file_extension": ".py",
   "mimetype": "text/x-python",
   "name": "python",
   "nbconvert_exporter": "python",
   "pygments_lexer": "ipython3",
   "version": "3.9.6"
  }
 },
 "nbformat": 4,
 "nbformat_minor": 5
}
